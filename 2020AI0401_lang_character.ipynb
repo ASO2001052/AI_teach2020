{
  "nbformat": 4,
  "nbformat_minor": 0,
  "metadata": {
    "colab": {
      "name": "2020AI0401-lang-character.ipynb",
      "provenance": [],
      "collapsed_sections": [],
      "include_colab_link": true
    },
    "kernelspec": {
      "name": "python3",
      "display_name": "Python 3"
    }
  },
  "cells": [
    {
      "cell_type": "markdown",
      "metadata": {
        "id": "view-in-github",
        "colab_type": "text"
      },
      "source": [
        "<a href=\"https://colab.research.google.com/github/ASO2001052/AI_teach2020/blob/master/2020AI0401_lang_character.ipynb\" target=\"_parent\"><img src=\"https://colab.research.google.com/assets/colab-badge.svg\" alt=\"Open In Colab\"/></a>"
      ]
    },
    {
      "cell_type": "markdown",
      "metadata": {
        "id": "d7dZBrj4K4rx"
      },
      "source": [
        "###異なる文字を使用する言語を分類"
      ]
    },
    {
      "cell_type": "code",
      "metadata": {
        "id": "jiH_355BHNh0"
      },
      "source": [
        "import numpy as np\r\n",
        "from sklearn.naive_bayes import GaussianNB\r\n",
        "from sklearn.metrics import accuracy_score"
      ],
      "execution_count": 1,
      "outputs": []
    },
    {
      "cell_type": "code",
      "metadata": {
        "id": "1jOZ-gbAHhiP"
      },
      "source": [
        "def count_codePoint(str):\r\n",
        "    #Unicodeのコードポイントをアドレスとする配列を用意\r\n",
        "    counter = np.zeros(65535)\r\n",
        "\r\n",
        "    for i in range(len(str)):\r\n",
        "        #Unicodeのコードポイントに変換\r\n",
        "        code_point = ord(str[i])\r\n",
        "        if code_point > 65535 :\r\n",
        "            continue\r\n",
        "        #インクリ\r\n",
        "        counter[code_point] += 1\r\n",
        "\r\n",
        "    counter = counter/len(str)\r\n",
        "    return counter"
      ],
      "execution_count": 2,
      "outputs": []
    },
    {
      "cell_type": "code",
      "metadata": {
        "id": "Q-wqwSmRH4VW"
      },
      "source": [
        "ja_str = 'これは日本語の文章です。'\r\n",
        "en_str = 'This is English Sentences.'\r\n",
        "th_str = 'นี่เป็นประโยคภาษาไทย'\r\n",
        "\r\n",
        "x_train = [count_codePoint(ja_str),count_codePoint(en_str),count_codePoint(th_str)]\r\n",
        "y_train = ['ja','en','th']"
      ],
      "execution_count": 3,
      "outputs": []
    },
    {
      "cell_type": "code",
      "metadata": {
        "colab": {
          "base_uri": "https://localhost:8080/"
        },
        "id": "b7sVomD9IAUP",
        "outputId": "fec39f5e-3ee5-4c3c-b250-fc75d1a21fac"
      },
      "source": [
        "clf = GaussianNB() \r\n",
        "clf.fit(x_train, y_train)"
      ],
      "execution_count": 4,
      "outputs": [
        {
          "output_type": "execute_result",
          "data": {
            "text/plain": [
              "GaussianNB(priors=None, var_smoothing=1e-09)"
            ]
          },
          "metadata": {
            "tags": []
          },
          "execution_count": 4
        }
      ]
    },
    {
      "cell_type": "code",
      "metadata": {
        "id": "FDy7cai1IE4P"
      },
      "source": [
        "ja_test_str = 'こんにちは'\r\n",
        "en_test_str = 'Hello'\r\n",
        "th_test_str = 'สวัสดี'\r\n",
        "\r\n",
        "x_test = [count_codePoint(ja_test_str),count_codePoint(en_test_str),count_codePoint(th_test_str)]\r\n",
        "y_test = ['ja', 'en', 'th']"
      ],
      "execution_count": 5,
      "outputs": []
    },
    {
      "cell_type": "code",
      "metadata": {
        "colab": {
          "base_uri": "https://localhost:8080/"
        },
        "id": "8El3l3SIJKwz",
        "outputId": "38c2da5c-6ae8-469b-f167-6f69242e1088"
      },
      "source": [
        "#推論させる\r\n",
        "y_pred = clf.predict(x_test)\r\n",
        "print(\"1つ目の文章の言語は\",y_pred[0],\"です。\")\r\n",
        "print(\"2つ目の文章の言語は\",y_pred[1],\"です。\")\r\n",
        "print(\"3つ目の文章の言語は\",y_pred[2],\"です。\")\r\n",
        "#評価\r\n",
        "print(\"正解率 = \" , accuracy_score(y_test, y_pred))"
      ],
      "execution_count": 6,
      "outputs": [
        {
          "output_type": "stream",
          "text": [
            "1つ目の文章の言語は ja です。\n",
            "2つ目の文章の言語は en です。\n",
            "3つ目の文章の言語は th です。\n",
            "正解率 =  1.0\n"
          ],
          "name": "stdout"
        }
      ]
    },
    {
      "cell_type": "markdown",
      "metadata": {
        "id": "PesUYlemKwgl"
      },
      "source": [
        "###同じ文字を使用する言語を分類"
      ]
    },
    {
      "cell_type": "code",
      "metadata": {
        "id": "UE5MtpGzKshu",
        "colab": {
          "base_uri": "https://localhost:8080/"
        },
        "outputId": "0a774241-d3c5-4875-9c42-38b9bb6278df"
      },
      "source": [
        "import urllib.request as req\r\n",
        "url = \"https://github.com/masatokg/sample_photo/raw/master/train.zip\"\r\n",
        "save_file = \"train.zip\"\r\n",
        "req.urlretrieve(url,save_file)\r\n",
        "url = \"https://github.com/masatokg/sample_photo/raw/master/test.zip\"\r\n",
        "save_file = \"test.zip\"\r\n",
        "req.urlretrieve(url,save_file)\r\n",
        "\r\n",
        "#解凍\r\n",
        "!unzip -o -q \"./train.zip\"\r\n",
        "print(\"train.zip解凍\")\r\n",
        "!unzip -o -q \"./test.zip\"\r\n",
        "print(\"test.zip解凍\")"
      ],
      "execution_count": 7,
      "outputs": [
        {
          "output_type": "stream",
          "text": [
            "train.zip解凍\n",
            "test.zip解凍\n"
          ],
          "name": "stdout"
        }
      ]
    },
    {
      "cell_type": "code",
      "metadata": {
        "colab": {
          "base_uri": "https://localhost:8080/"
        },
        "id": "JergxYLpMDK7",
        "outputId": "cba6781f-ff33-41bb-9652-1a4a6ada7c58"
      },
      "source": [
        "import glob\r\n",
        "\r\n",
        "index = 0\r\n",
        "x_train = []\r\n",
        "y_train = []\r\n",
        "\r\n",
        "for file in glob.glob(\"./train/*.txt\"):\r\n",
        "  y_train.append(file[8:10])\r\n",
        "  print(\"ファイルパスの一部をラベルにする：\",file,\"　＝　\",file[8:10])\r\n",
        "  #print(y_train)\r\n",
        "\r\n",
        "  file_str = \"\"\r\n",
        "  for line in open(file,\"r\"):\r\n",
        "    file_str = (file_str + line)\r\n",
        "  x_train.append(count_codePoint(file_str))\r\n",
        "print(x_train)"
      ],
      "execution_count": 8,
      "outputs": [
        {
          "output_type": "stream",
          "text": [
            "ファイルパスの一部をラベルにする： ./train/de_cat.txt 　＝　 de\n",
            "ファイルパスの一部をラベルにする： ./train/en_cat.txt 　＝　 en\n",
            "ファイルパスの一部をラベルにする： ./train/es_dog.txt 　＝　 es\n",
            "ファイルパスの一部をラベルにする： ./train/es_elephant.txt 　＝　 es\n",
            "ファイルパスの一部をラベルにする： ./train/de_elephant.txt 　＝　 de\n",
            "ファイルパスの一部をラベルにする： ./train/de_dog.txt 　＝　 de\n",
            "ファイルパスの一部をラベルにする： ./train/en_elephant.txt 　＝　 en\n",
            "ファイルパスの一部をラベルにする： ./train/es_cat.txt 　＝　 es\n",
            "ファイルパスの一部をラベルにする： ./train/en_dog.txt 　＝　 en\n",
            "[array([0., 0., 0., ..., 0., 0., 0.]), array([0., 0., 0., ..., 0., 0., 0.]), array([0., 0., 0., ..., 0., 0., 0.]), array([0., 0., 0., ..., 0., 0., 0.]), array([0., 0., 0., ..., 0., 0., 0.]), array([0., 0., 0., ..., 0., 0., 0.]), array([0., 0., 0., ..., 0., 0., 0.]), array([0., 0., 0., ..., 0., 0., 0.]), array([0., 0., 0., ..., 0., 0., 0.])]\n"
          ],
          "name": "stdout"
        }
      ]
    },
    {
      "cell_type": "code",
      "metadata": {
        "colab": {
          "base_uri": "https://localhost:8080/"
        },
        "id": "aMlzHqzdNyP0",
        "outputId": "f9223451-8e0c-4eaa-dcab-c2a158951b5d"
      },
      "source": [
        "#インスタンスを生成（ガウシアンNB）\r\n",
        "clf = GaussianNB()\r\n",
        "#学習\r\n",
        "clf.fit(x_train,y_train)"
      ],
      "execution_count": 9,
      "outputs": [
        {
          "output_type": "execute_result",
          "data": {
            "text/plain": [
              "GaussianNB(priors=None, var_smoothing=1e-09)"
            ]
          },
          "metadata": {
            "tags": []
          },
          "execution_count": 9
        }
      ]
    },
    {
      "cell_type": "code",
      "metadata": {
        "colab": {
          "base_uri": "https://localhost:8080/"
        },
        "id": "5JceknJSOJuj",
        "outputId": "f4314985-e349-49b3-fd71-cbac907c545c"
      },
      "source": [
        "index = 0\r\n",
        "x_test = []\r\n",
        "y_test = []\r\n",
        "\r\n",
        "for file in glob.glob(\"./test/*.txt\"):\r\n",
        "  y_test.append(file[7:9])\r\n",
        "  print(\"ファイルパスの一部をラベルにする：\",file,\"　＝　\",file[7:9])\r\n",
        "\r\n",
        "  file_str = \"\"\r\n",
        "  for line in open(file,\"r\"):\r\n",
        "    file_str = (file_str + line)\r\n",
        "  x_test.append(count_codePoint(file_str))\r\n",
        "  #print(file_str)\r\n",
        "  #print(x_test[0])"
      ],
      "execution_count": 10,
      "outputs": [
        {
          "output_type": "stream",
          "text": [
            "ファイルパスの一部をラベルにする： ./test/en_lion.txt 　＝　 en\n",
            "ファイルパスの一部をラベルにする： ./test/es_lion.txt 　＝　 es\n",
            "ファイルパスの一部をラベルにする： ./test/de_lion.txt 　＝　 de\n"
          ],
          "name": "stdout"
        }
      ]
    },
    {
      "cell_type": "code",
      "metadata": {
        "colab": {
          "base_uri": "https://localhost:8080/"
        },
        "id": "e0GKL8xqPsgC",
        "outputId": "655494a1-e83b-4933-a74f-efc451d54cb0"
      },
      "source": [
        "#推論させる\r\n",
        "y_pred = clf.predict(x_test)\r\n",
        "print(y_pred)\r\n",
        "\r\n",
        "#評価\r\n",
        "print(\"正解率 = \" , accuracy_score(y_test, y_pred))"
      ],
      "execution_count": 11,
      "outputs": [
        {
          "output_type": "stream",
          "text": [
            "['en' 'es' 'de']\n",
            "正解率 =  1.0\n"
          ],
          "name": "stdout"
        }
      ]
    }
  ]
}