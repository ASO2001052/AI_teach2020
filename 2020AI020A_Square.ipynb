{
  "nbformat": 4,
  "nbformat_minor": 0,
  "metadata": {
    "colab": {
      "name": "2020AI020A-Square.ipynb",
      "provenance": [],
      "authorship_tag": "ABX9TyNtwzmi46X0Mcffo805sw95",
      "include_colab_link": true
    },
    "kernelspec": {
      "name": "python3",
      "display_name": "Python 3"
    }
  },
  "cells": [
    {
      "cell_type": "markdown",
      "metadata": {
        "id": "view-in-github",
        "colab_type": "text"
      },
      "source": [
        "<a href=\"https://colab.research.google.com/github/ASO2001052/AI_teach2020/blob/master/2020AI020A_Square.ipynb\" target=\"_parent\"><img src=\"https://colab.research.google.com/assets/colab-badge.svg\" alt=\"Open In Colab\"/></a>"
      ]
    },
    {
      "cell_type": "code",
      "metadata": {
        "id": "BkYqCCihwl4V"
      },
      "source": [
        "# ライブラリの読み込み\n",
        "import pandas as pd\n",
        "# データを学習とテスト用にわけるライブラリ\n",
        "from sklearn.model_selection import train_test_split\n",
        "# ランダムフォレストアルゴリズムの学習モデル(分類)\n",
        "from sklearn.ensemble import RandomForestClassifier\n",
        "# 学習制度を評価するライブラリ\n",
        "from sklearn.metrics import accuracy_score\n",
        "# 分類結果を出力するライブラリ\n",
        "from sklearn.metrics import classification_report"
      ],
      "execution_count": 72,
      "outputs": []
    },
    {
      "cell_type": "code",
      "metadata": {
        "id": "xKyZhOJkw0x-",
        "outputId": "c30ac19b-aa0f-4329-cac3-a32c23f324d5",
        "colab": {
          "base_uri": "https://localhost:8080/"
        }
      },
      "source": [
        "# webから読み込むためのライブラリ\n",
        "from urllib.request import urlretrieve\n",
        "# uciのサイトから読み込むためのurl文字列\n",
        "url = \"https://raw.githubusercontent.com/masatokg/square_data/master/data.csv\"\n",
        "savepath =\"square.csv\"\n",
        "# データをwebアクセスでコピーして指定したファイルパス・ファイル名に保存\n",
        "urlretrieve(url, savepath)"
      ],
      "execution_count": 73,
      "outputs": [
        {
          "output_type": "execute_result",
          "data": {
            "text/plain": [
              "('square.csv', <http.client.HTTPMessage at 0x7f54a9d83048>)"
            ]
          },
          "metadata": {
            "tags": []
          },
          "execution_count": 73
        }
      ]
    },
    {
      "cell_type": "code",
      "metadata": {
        "id": "7I9lxLrsw986",
        "outputId": "b856e983-22e2-4dc4-a9d4-96f5b2bb0c44",
        "colab": {
          "base_uri": "https://localhost:8080/"
        }
      },
      "source": [
        "# 変数wineにデータ保持\n",
        "square = pd.read_csv(savepath, sep=\",\", encoding=\"utf-8\")\n",
        "# 読み込んだデータの最初のほうを表示\n",
        "print(square.head())"
      ],
      "execution_count": 74,
      "outputs": [
        {
          "output_type": "stream",
          "text": [
            "   a_length  b_length  c_length  ...  cd_Parallel  ab_right_angle   shape\n",
            "0        10        10        10  ...            1               1  square\n",
            "1        11        11        11  ...            1               1  square\n",
            "2        12        12        12  ...            1               1  square\n",
            "3        13        13        13  ...            1               1  square\n",
            "4        14        14        14  ...            1               1  square\n",
            "\n",
            "[5 rows x 8 columns]\n"
          ],
          "name": "stdout"
        }
      ]
    },
    {
      "cell_type": "code",
      "metadata": {
        "id": "nX166TssxEA-",
        "outputId": "c74038a9-a743-45de-a2e8-4efc5b5d9527",
        "colab": {
          "base_uri": "https://localhost:8080/",
          "height": 204
        }
      },
      "source": [
        "y = square[\"shape\"]\n",
        "x = square.drop(\"shape\", axis=1)\n",
        "x.head()"
      ],
      "execution_count": 75,
      "outputs": [
        {
          "output_type": "execute_result",
          "data": {
            "text/html": [
              "<div>\n",
              "<style scoped>\n",
              "    .dataframe tbody tr th:only-of-type {\n",
              "        vertical-align: middle;\n",
              "    }\n",
              "\n",
              "    .dataframe tbody tr th {\n",
              "        vertical-align: top;\n",
              "    }\n",
              "\n",
              "    .dataframe thead th {\n",
              "        text-align: right;\n",
              "    }\n",
              "</style>\n",
              "<table border=\"1\" class=\"dataframe\">\n",
              "  <thead>\n",
              "    <tr style=\"text-align: right;\">\n",
              "      <th></th>\n",
              "      <th>a_length</th>\n",
              "      <th>b_length</th>\n",
              "      <th>c_length</th>\n",
              "      <th>d_length</th>\n",
              "      <th>ab_Parallel</th>\n",
              "      <th>cd_Parallel</th>\n",
              "      <th>ab_right_angle</th>\n",
              "    </tr>\n",
              "  </thead>\n",
              "  <tbody>\n",
              "    <tr>\n",
              "      <th>0</th>\n",
              "      <td>10</td>\n",
              "      <td>10</td>\n",
              "      <td>10</td>\n",
              "      <td>10</td>\n",
              "      <td>1</td>\n",
              "      <td>1</td>\n",
              "      <td>1</td>\n",
              "    </tr>\n",
              "    <tr>\n",
              "      <th>1</th>\n",
              "      <td>11</td>\n",
              "      <td>11</td>\n",
              "      <td>11</td>\n",
              "      <td>11</td>\n",
              "      <td>1</td>\n",
              "      <td>1</td>\n",
              "      <td>1</td>\n",
              "    </tr>\n",
              "    <tr>\n",
              "      <th>2</th>\n",
              "      <td>12</td>\n",
              "      <td>12</td>\n",
              "      <td>12</td>\n",
              "      <td>12</td>\n",
              "      <td>1</td>\n",
              "      <td>1</td>\n",
              "      <td>1</td>\n",
              "    </tr>\n",
              "    <tr>\n",
              "      <th>3</th>\n",
              "      <td>13</td>\n",
              "      <td>13</td>\n",
              "      <td>13</td>\n",
              "      <td>13</td>\n",
              "      <td>1</td>\n",
              "      <td>1</td>\n",
              "      <td>1</td>\n",
              "    </tr>\n",
              "    <tr>\n",
              "      <th>4</th>\n",
              "      <td>14</td>\n",
              "      <td>14</td>\n",
              "      <td>14</td>\n",
              "      <td>14</td>\n",
              "      <td>1</td>\n",
              "      <td>1</td>\n",
              "      <td>1</td>\n",
              "    </tr>\n",
              "  </tbody>\n",
              "</table>\n",
              "</div>"
            ],
            "text/plain": [
              "   a_length  b_length  c_length  ...  ab_Parallel  cd_Parallel  ab_right_angle\n",
              "0        10        10        10  ...            1            1               1\n",
              "1        11        11        11  ...            1            1               1\n",
              "2        12        12        12  ...            1            1               1\n",
              "3        13        13        13  ...            1            1               1\n",
              "4        14        14        14  ...            1            1               1\n",
              "\n",
              "[5 rows x 7 columns]"
            ]
          },
          "metadata": {
            "tags": []
          },
          "execution_count": 75
        }
      ]
    },
    {
      "cell_type": "code",
      "metadata": {
        "id": "Hj6emUp7xfAt"
      },
      "source": [
        "x_train, x_test, y_train, y_test = train_test_split(x, y, test_size=0.2)"
      ],
      "execution_count": 76,
      "outputs": []
    },
    {
      "cell_type": "code",
      "metadata": {
        "id": "ATPIumv5xo8W",
        "outputId": "9476eacd-d507-4154-ec76-aebdf15fa6ac",
        "colab": {
          "base_uri": "https://localhost:8080/"
        }
      },
      "source": [
        "# ランダムフォレストで学習\n",
        "model = RandomForestClassifier()\n",
        "model.fit(x_train, y_train)"
      ],
      "execution_count": 77,
      "outputs": [
        {
          "output_type": "execute_result",
          "data": {
            "text/plain": [
              "RandomForestClassifier(bootstrap=True, ccp_alpha=0.0, class_weight=None,\n",
              "                       criterion='gini', max_depth=None, max_features='auto',\n",
              "                       max_leaf_nodes=None, max_samples=None,\n",
              "                       min_impurity_decrease=0.0, min_impurity_split=None,\n",
              "                       min_samples_leaf=1, min_samples_split=2,\n",
              "                       min_weight_fraction_leaf=0.0, n_estimators=100,\n",
              "                       n_jobs=None, oob_score=False, random_state=None,\n",
              "                       verbose=0, warm_start=False)"
            ]
          },
          "metadata": {
            "tags": []
          },
          "execution_count": 77
        }
      ]
    },
    {
      "cell_type": "code",
      "metadata": {
        "id": "_OFFTq7qxrM4",
        "outputId": "4d1dd52b-0dd8-4468-f765-6392c52390fd",
        "colab": {
          "base_uri": "https://localhost:8080/"
        }
      },
      "source": [
        "# テスト(predict)して結果を評価\n",
        "y_pred =model.predict(x_test)\n",
        "# テスト結果(y_pred)と、本当の実データ(正解ラベルデータ)を比較して制度を評価\n",
        "print(classification_report(y_test, y_pred))\n",
        "# 正解率\n",
        "print(\"正解率 = \", accuracy_score(y_test, y_pred)*100, \"%\")"
      ],
      "execution_count": 78,
      "outputs": [
        {
          "output_type": "stream",
          "text": [
            "              precision    recall  f1-score   support\n",
            "\n",
            "   rectangle       1.00      1.00      1.00        22\n",
            "     rhombus       1.00      1.00      1.00        19\n",
            "      square       1.00      1.00      1.00        18\n",
            "   trapezoid       1.00      1.00      1.00        21\n",
            "\n",
            "    accuracy                           1.00        80\n",
            "   macro avg       1.00      1.00      1.00        80\n",
            "weighted avg       1.00      1.00      1.00        80\n",
            "\n",
            "正解率 =  100.0 %\n"
          ],
          "name": "stdout"
        }
      ]
    },
    {
      "cell_type": "code",
      "metadata": {
        "id": "l499-PiHxtsr"
      },
      "source": [
        ""
      ],
      "execution_count": 78,
      "outputs": []
    }
  ]
}