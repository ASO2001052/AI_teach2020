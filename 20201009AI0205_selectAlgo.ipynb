{
  "nbformat": 4,
  "nbformat_minor": 0,
  "metadata": {
    "colab": {
      "name": "20201009AI0205-selectAlgo.ipynb",
      "provenance": [],
      "authorship_tag": "ABX9TyO52qM4Htq/StV/iTcfZI1j",
      "include_colab_link": true
    },
    "kernelspec": {
      "name": "python3",
      "display_name": "Python 3"
    }
  },
  "cells": [
    {
      "cell_type": "markdown",
      "metadata": {
        "id": "view-in-github",
        "colab_type": "text"
      },
      "source": [
        "<a href=\"https://colab.research.google.com/github/ASO2001052/AI_teach2020/blob/master/20201009AI0205_selectAlgo.ipynb\" target=\"_parent\"><img src=\"https://colab.research.google.com/assets/colab-badge.svg\" alt=\"Open In Colab\"/></a>"
      ]
    },
    {
      "cell_type": "code",
      "metadata": {
        "id": "VLWzNifO0RCv",
        "outputId": "259e641a-def0-42a2-a00f-562d10caf89a",
        "colab": {
          "base_uri": "https://localhost:8080/",
          "height": 464
        }
      },
      "source": [
        "!pip uninstall scikit-learn\n",
        "!pip install scikit-learn==0.20 --ignore-installed"
      ],
      "execution_count": 1,
      "outputs": [
        {
          "output_type": "stream",
          "text": [
            "Uninstalling scikit-learn-0.22.2.post1:\n",
            "  Would remove:\n",
            "    /usr/local/lib/python3.6/dist-packages/scikit_learn-0.22.2.post1.dist-info/*\n",
            "    /usr/local/lib/python3.6/dist-packages/sklearn/*\n",
            "Proceed (y/n)? y\n",
            "  Successfully uninstalled scikit-learn-0.22.2.post1\n",
            "Collecting scikit-learn==0.20\n",
            "\u001b[?25l  Downloading https://files.pythonhosted.org/packages/0c/b2/05be9b6da9ae4a4c54f537be22e95833f722742a02b1e355fdc09363877c/scikit_learn-0.20.0-cp36-cp36m-manylinux1_x86_64.whl (5.3MB)\n",
            "\u001b[K     |████████████████████████████████| 5.3MB 2.6MB/s \n",
            "\u001b[?25hCollecting numpy>=1.8.2\n",
            "\u001b[?25l  Downloading https://files.pythonhosted.org/packages/0e/f7/a7d7e0de99a7b43bd95aaddcf29e65b5a185ca389dd1329a53cc986edc38/numpy-1.19.3-cp36-cp36m-manylinux2010_x86_64.whl (14.9MB)\n",
            "\u001b[K     |████████████████████████████████| 14.9MB 279kB/s \n",
            "\u001b[?25hCollecting scipy>=0.13.3\n",
            "\u001b[?25l  Downloading https://files.pythonhosted.org/packages/8a/14/d0475ceeaa047f3eae2dc7597c3d40228e1d5beee42c1730f3c96ffb5526/scipy-1.5.3-cp36-cp36m-manylinux1_x86_64.whl (25.9MB)\n",
            "\u001b[K     |████████████████████████████████| 25.9MB 1.3MB/s \n",
            "\u001b[31mERROR: tensorflow 2.3.0 has requirement numpy<1.19.0,>=1.16.0, but you'll have numpy 1.19.3 which is incompatible.\u001b[0m\n",
            "\u001b[31mERROR: tensorflow 2.3.0 has requirement scipy==1.4.1, but you'll have scipy 1.5.3 which is incompatible.\u001b[0m\n",
            "\u001b[31mERROR: datascience 0.10.6 has requirement folium==0.2.1, but you'll have folium 0.8.3 which is incompatible.\u001b[0m\n",
            "\u001b[31mERROR: albumentations 0.1.12 has requirement imgaug<0.2.7,>=0.2.5, but you'll have imgaug 0.2.9 which is incompatible.\u001b[0m\n",
            "\u001b[?25hInstalling collected packages: numpy, scipy, scikit-learn\n",
            "Successfully installed numpy-1.19.3 scikit-learn-0.20.0 scipy-1.5.3\n"
          ],
          "name": "stdout"
        },
        {
          "output_type": "display_data",
          "data": {
            "application/vnd.colab-display-data+json": {
              "pip_warning": {
                "packages": [
                  "numpy"
                ]
              }
            }
          },
          "metadata": {
            "tags": []
          }
        }
      ]
    },
    {
      "cell_type": "code",
      "metadata": {
        "id": "684gzNGSjD6i"
      },
      "source": [
        "import pandas as pd\n",
        "from sklearn.model_selection import train_test_split\n",
        "from sklearn.metrics import accuracy_score\n",
        "from sklearn.utils.testing import all_estimators\n",
        "import warnings"
      ],
      "execution_count": 2,
      "outputs": []
    },
    {
      "cell_type": "code",
      "metadata": {
        "id": "q4LIOy4Ujlsy",
        "outputId": "f3196d50-57c9-4e8b-adc3-921504c35e00",
        "colab": {
          "base_uri": "https://localhost:8080/",
          "height": 204
        }
      },
      "source": [
        "import urllib.request as req\n",
        "url = \"https://raw.githubusercontent.com/pandas-dev/pandas/master/pandas/tests/io/data/csv/iris.csv\"\n",
        "savefile = \"iris.csv\"\n",
        "req.urlretrieve(url, savefile)\n",
        "iris_data = pd.read_csv(savefile, encoding=\"utf-8\")\n",
        "iris_data.head()"
      ],
      "execution_count": 3,
      "outputs": [
        {
          "output_type": "execute_result",
          "data": {
            "text/html": [
              "<div>\n",
              "<style scoped>\n",
              "    .dataframe tbody tr th:only-of-type {\n",
              "        vertical-align: middle;\n",
              "    }\n",
              "\n",
              "    .dataframe tbody tr th {\n",
              "        vertical-align: top;\n",
              "    }\n",
              "\n",
              "    .dataframe thead th {\n",
              "        text-align: right;\n",
              "    }\n",
              "</style>\n",
              "<table border=\"1\" class=\"dataframe\">\n",
              "  <thead>\n",
              "    <tr style=\"text-align: right;\">\n",
              "      <th></th>\n",
              "      <th>SepalLength</th>\n",
              "      <th>SepalWidth</th>\n",
              "      <th>PetalLength</th>\n",
              "      <th>PetalWidth</th>\n",
              "      <th>Name</th>\n",
              "    </tr>\n",
              "  </thead>\n",
              "  <tbody>\n",
              "    <tr>\n",
              "      <th>0</th>\n",
              "      <td>5.1</td>\n",
              "      <td>3.5</td>\n",
              "      <td>1.4</td>\n",
              "      <td>0.2</td>\n",
              "      <td>Iris-setosa</td>\n",
              "    </tr>\n",
              "    <tr>\n",
              "      <th>1</th>\n",
              "      <td>4.9</td>\n",
              "      <td>3.0</td>\n",
              "      <td>1.4</td>\n",
              "      <td>0.2</td>\n",
              "      <td>Iris-setosa</td>\n",
              "    </tr>\n",
              "    <tr>\n",
              "      <th>2</th>\n",
              "      <td>4.7</td>\n",
              "      <td>3.2</td>\n",
              "      <td>1.3</td>\n",
              "      <td>0.2</td>\n",
              "      <td>Iris-setosa</td>\n",
              "    </tr>\n",
              "    <tr>\n",
              "      <th>3</th>\n",
              "      <td>4.6</td>\n",
              "      <td>3.1</td>\n",
              "      <td>1.5</td>\n",
              "      <td>0.2</td>\n",
              "      <td>Iris-setosa</td>\n",
              "    </tr>\n",
              "    <tr>\n",
              "      <th>4</th>\n",
              "      <td>5.0</td>\n",
              "      <td>3.6</td>\n",
              "      <td>1.4</td>\n",
              "      <td>0.2</td>\n",
              "      <td>Iris-setosa</td>\n",
              "    </tr>\n",
              "  </tbody>\n",
              "</table>\n",
              "</div>"
            ],
            "text/plain": [
              "   SepalLength  SepalWidth  PetalLength  PetalWidth         Name\n",
              "0          5.1         3.5          1.4         0.2  Iris-setosa\n",
              "1          4.9         3.0          1.4         0.2  Iris-setosa\n",
              "2          4.7         3.2          1.3         0.2  Iris-setosa\n",
              "3          4.6         3.1          1.5         0.2  Iris-setosa\n",
              "4          5.0         3.6          1.4         0.2  Iris-setosa"
            ]
          },
          "metadata": {
            "tags": []
          },
          "execution_count": 3
        }
      ]
    },
    {
      "cell_type": "code",
      "metadata": {
        "id": "xW3Z_JZsxeBk",
        "outputId": "77679e0b-47c2-4029-99ee-75d44ba564e7",
        "colab": {
          "base_uri": "https://localhost:8080/"
        }
      },
      "source": [
        "y = iris_data.loc[:, \"Name\"]\n",
        "x = iris_data.loc[:, [\"SepalLength\", \"SepalWidth\", \"PetalLength\", \"PetalWidth\"]]\n",
        "\n",
        "print(y.head())\n",
        "print(x.head())"
      ],
      "execution_count": 4,
      "outputs": [
        {
          "output_type": "stream",
          "text": [
            "0    Iris-setosa\n",
            "1    Iris-setosa\n",
            "2    Iris-setosa\n",
            "3    Iris-setosa\n",
            "4    Iris-setosa\n",
            "Name: Name, dtype: object\n",
            "   SepalLength  SepalWidth  PetalLength  PetalWidth\n",
            "0          5.1         3.5          1.4         0.2\n",
            "1          4.9         3.0          1.4         0.2\n",
            "2          4.7         3.2          1.3         0.2\n",
            "3          4.6         3.1          1.5         0.2\n",
            "4          5.0         3.6          1.4         0.2\n"
          ],
          "name": "stdout"
        }
      ]
    },
    {
      "cell_type": "code",
      "metadata": {
        "id": "gQ05CPfjyG4R",
        "outputId": "cd6e44e4-f128-44b4-b0d6-36c8ca319910",
        "colab": {
          "base_uri": "https://localhost:8080/"
        }
      },
      "source": [
        "x_train, x_test, y_train, y_test = train_test_split(x, y,test_size=0.2, train_size=0.8, shuffle=True)\n",
        "print(x_train.head())\n",
        "print(y_train.head())\n",
        "print(x_test.head())\n",
        "print(y_test.head())"
      ],
      "execution_count": 5,
      "outputs": [
        {
          "output_type": "stream",
          "text": [
            "     SepalLength  SepalWidth  PetalLength  PetalWidth\n",
            "149          5.9         3.0          5.1         1.8\n",
            "53           5.5         2.3          4.0         1.3\n",
            "137          6.4         3.1          5.5         1.8\n",
            "105          7.6         3.0          6.6         2.1\n",
            "101          5.8         2.7          5.1         1.9\n",
            "149     Iris-virginica\n",
            "53     Iris-versicolor\n",
            "137     Iris-virginica\n",
            "105     Iris-virginica\n",
            "101     Iris-virginica\n",
            "Name: Name, dtype: object\n",
            "    SepalLength  SepalWidth  PetalLength  PetalWidth\n",
            "74          6.4         2.9          4.3         1.3\n",
            "30          4.8         3.1          1.6         0.2\n",
            "37          4.9         3.1          1.5         0.1\n",
            "85          6.0         3.4          4.5         1.6\n",
            "38          4.4         3.0          1.3         0.2\n",
            "74    Iris-versicolor\n",
            "30        Iris-setosa\n",
            "37        Iris-setosa\n",
            "85    Iris-versicolor\n",
            "38        Iris-setosa\n",
            "Name: Name, dtype: object\n"
          ],
          "name": "stdout"
        }
      ]
    },
    {
      "cell_type": "code",
      "metadata": {
        "id": "jhnTjj1TzGg0"
      },
      "source": [
        "allAlgorithms = all_estimators(type_filter=\"classifier\")\n",
        "warnings.filterwarnings('ignore')"
      ],
      "execution_count": 6,
      "outputs": []
    },
    {
      "cell_type": "code",
      "metadata": {
        "id": "1yfVLfECzUwt",
        "outputId": "dbeee636-a796-4f6c-b46e-5ac8bebcf565",
        "colab": {
          "base_uri": "https://localhost:8080/"
        }
      },
      "source": [
        "for (name, algorithm) in allAlgorithms:\n",
        "  try:\n",
        "    clf = algorithm()\n",
        "    clf.fit(x_train, y_train)\n",
        "    y_pred =clf.predict(x_test)\n",
        "    print(name, \"の正解率 = \", accuracy_score(y_test, y_pred))\n",
        "\n",
        "  except Exception as e:\n",
        "    print(\"\\033[31m\" + \"Error: \\033[0m\", name, \":\", e.args)\n",
        "  # else:\n",
        "    # print(\"正常系です\")"
      ],
      "execution_count": 7,
      "outputs": [
        {
          "output_type": "stream",
          "text": [
            "AdaBoostClassifier の正解率 =  0.9333333333333333\n",
            "BaggingClassifier の正解率 =  0.9\n",
            "BernoulliNB の正解率 =  0.13333333333333333\n",
            "CalibratedClassifierCV の正解率 =  0.8666666666666667\n",
            "ComplementNB の正解率 =  0.5666666666666667\n",
            "DecisionTreeClassifier の正解率 =  0.9\n",
            "ExtraTreeClassifier の正解率 =  0.9\n",
            "ExtraTreesClassifier の正解率 =  0.9333333333333333\n",
            "GaussianNB の正解率 =  0.9333333333333333\n",
            "GaussianProcessClassifier の正解率 =  0.9333333333333333\n",
            "GradientBoostingClassifier の正解率 =  0.9\n",
            "KNeighborsClassifier の正解率 =  0.9333333333333333\n",
            "LabelPropagation の正解率 =  0.9333333333333333\n",
            "LabelSpreading の正解率 =  0.9333333333333333\n",
            "LinearDiscriminantAnalysis の正解率 =  0.9666666666666667\n",
            "LinearSVC の正解率 =  0.9333333333333333\n",
            "LogisticRegression の正解率 =  0.9\n",
            "LogisticRegressionCV の正解率 =  0.8666666666666667\n",
            "MLPClassifier の正解率 =  0.9333333333333333\n",
            "MultinomialNB の正解率 =  0.5666666666666667\n",
            "NearestCentroid の正解率 =  0.8666666666666667\n",
            "NuSVC の正解率 =  0.9333333333333333\n",
            "PassiveAggressiveClassifier の正解率 =  0.5666666666666667\n",
            "Perceptron の正解率 =  0.9\n",
            "QuadraticDiscriminantAnalysis の正解率 =  0.9333333333333333\n",
            "RadiusNeighborsClassifier の正解率 =  0.9333333333333333\n",
            "RandomForestClassifier の正解率 =  0.9\n",
            "RidgeClassifier の正解率 =  0.8\n",
            "RidgeClassifierCV の正解率 =  0.8\n",
            "SGDClassifier の正解率 =  0.9333333333333333\n",
            "SVC の正解率 =  0.9333333333333333\n"
          ],
          "name": "stdout"
        }
      ]
    },
    {
      "cell_type": "code",
      "metadata": {
        "id": "07mtF9c70Ekd"
      },
      "source": [
        "from sklearn.model_selection import KFold\n",
        "from sklearn.model_selection import cross_val_score"
      ],
      "execution_count": 8,
      "outputs": []
    },
    {
      "cell_type": "code",
      "metadata": {
        "id": "BoWxAIuAnSX2",
        "outputId": "250cd855-f800-4a64-b5c2-ada35b775b01",
        "colab": {
          "base_uri": "https://localhost:8080/"
        }
      },
      "source": [
        "kfold_cv = KFold( n_splits=5, shuffle=True)\n",
        "for( name, algorithm ) in allAlgorithms:\n",
        "  try:\n",
        "    clf = algorithm()\n",
        "    if hasattr(clf, \"score\"):\n",
        "      scores = cross_val_score(clf, x, y, cv=kfold_cv)\n",
        "      print(name, \"の正解率 = \")\n",
        "      print(scores)\n",
        "  except:\n",
        "    pass"
      ],
      "execution_count": 9,
      "outputs": [
        {
          "output_type": "stream",
          "text": [
            "AdaBoostClassifier の正解率 = \n",
            "[0.9        0.96666667 0.96666667 0.9        0.9       ]\n",
            "BaggingClassifier の正解率 = \n",
            "[0.9        0.96666667 0.96666667 0.86666667 0.96666667]\n",
            "BernoulliNB の正解率 = \n",
            "[0.16666667 0.23333333 0.23333333 0.2        0.2       ]\n",
            "CalibratedClassifierCV の正解率 = \n",
            "[0.93333333 0.93333333 0.86666667 0.9        0.96666667]\n",
            "ComplementNB の正解率 = \n",
            "[0.63333333 0.6        0.7        0.6        0.8       ]\n",
            "DecisionTreeClassifier の正解率 = \n",
            "[0.93333333 0.93333333 0.93333333 0.96666667 1.        ]\n",
            "ExtraTreeClassifier の正解率 = \n",
            "[0.96666667 1.         0.96666667 0.93333333 0.96666667]\n",
            "ExtraTreesClassifier の正解率 = \n",
            "[1.         1.         0.86666667 0.9        0.96666667]\n",
            "GaussianNB の正解率 = \n",
            "[0.93333333 0.96666667 0.93333333 0.96666667 0.96666667]\n",
            "GaussianProcessClassifier の正解率 = \n",
            "[1.         0.96666667 1.         0.9        0.96666667]\n",
            "GradientBoostingClassifier の正解率 = \n",
            "[0.96666667 1.         0.9        0.96666667 1.        ]\n",
            "KNeighborsClassifier の正解率 = \n",
            "[0.96666667 0.93333333 0.96666667 0.96666667 0.96666667]\n",
            "LabelPropagation の正解率 = \n",
            "[0.93333333 0.96666667 1.         0.93333333 1.        ]\n",
            "LabelSpreading の正解率 = \n",
            "[0.86666667 0.96666667 1.         0.96666667 1.        ]\n",
            "LinearDiscriminantAnalysis の正解率 = \n",
            "[1.         0.96666667 0.96666667 0.96666667 1.        ]\n",
            "LinearSVC の正解率 = \n",
            "[0.93333333 0.9        1.         1.         0.9       ]\n",
            "LogisticRegression の正解率 = \n",
            "[0.96666667 0.93333333 1.         0.9        1.        ]\n",
            "LogisticRegressionCV の正解率 = \n",
            "[0.93333333 0.96666667 0.9        0.96666667 0.96666667]\n",
            "MLPClassifier の正解率 = \n",
            "[0.96666667 1.         1.         1.         0.96666667]\n",
            "MultinomialNB の正解率 = \n",
            "[0.93333333 0.9        0.7        0.73333333 0.9       ]\n",
            "NearestCentroid の正解率 = \n",
            "[0.93333333 0.93333333 0.96666667 0.93333333 0.9       ]\n",
            "NuSVC の正解率 = \n",
            "[0.96666667 1.         1.         0.96666667 0.86666667]\n",
            "PassiveAggressiveClassifier の正解率 = \n",
            "[0.7        0.7        0.53333333 0.63333333 0.93333333]\n",
            "Perceptron の正解率 = \n",
            "[0.83333333 0.36666667 0.8        0.5        0.73333333]\n",
            "QuadraticDiscriminantAnalysis の正解率 = \n",
            "[1.         0.93333333 0.96666667 1.         1.        ]\n",
            "RadiusNeighborsClassifier の正解率 = \n",
            "[0.96666667 0.93333333 0.93333333 0.96666667 1.        ]\n",
            "RandomForestClassifier の正解率 = \n",
            "[1.         0.9        1.         0.93333333 0.96666667]\n",
            "RidgeClassifier の正解率 = \n",
            "[0.93333333 0.76666667 0.83333333 0.83333333 0.83333333]\n",
            "RidgeClassifierCV の正解率 = \n",
            "[0.83333333 0.83333333 0.8        0.76666667 0.8       ]\n",
            "SGDClassifier の正解率 = \n",
            "[0.76666667 0.83333333 0.26666667 0.63333333 0.86666667]\n",
            "SVC の正解率 = \n",
            "[0.93333333 1.         1.         0.96666667 1.        ]\n"
          ],
          "name": "stdout"
        }
      ]
    },
    {
      "cell_type": "code",
      "metadata": {
        "id": "UbKOobm7oJsY"
      },
      "source": [
        "from sklearn.model_selection import cross_validate"
      ],
      "execution_count": 10,
      "outputs": []
    },
    {
      "cell_type": "code",
      "metadata": {
        "id": "TqLzwxs9pSmi",
        "outputId": "d8960cac-b9a8-43d7-c4bd-e18ffe87e848",
        "colab": {
          "base_uri": "https://localhost:8080/"
        }
      },
      "source": [
        "kfold_cv = KFold( n_splits=5, shuffle=True)\n",
        "for( name, algorithm ) in allAlgorithms:\n",
        "  try:\n",
        "    clf = algorithm()\n",
        "    if hasattr(clf, \"score\"):\n",
        "      scores = cross_validate(clf, x, y, cv=kfold_cv)\n",
        "      print(name, \"の正解率 = \")\n",
        "      print(scores)\n",
        "  except:\n",
        "    pass"
      ],
      "execution_count": 11,
      "outputs": [
        {
          "output_type": "stream",
          "text": [
            "AdaBoostClassifier の正解率 = \n",
            "{'fit_time': array([0.06855249, 0.06081486, 0.05933976, 0.06165981, 0.06207323]), 'score_time': array([0.00595784, 0.00563264, 0.00584054, 0.00670362, 0.00587058]), 'test_score': array([0.96666667, 1.        , 0.9       , 1.        , 0.9       ]), 'train_score': array([0.95833333, 0.95      , 0.975     , 0.95      , 0.95833333])}\n",
            "BaggingClassifier の正解率 = \n",
            "{'fit_time': array([0.01519227, 0.0128026 , 0.01298451, 0.01269913, 0.01274943]), 'score_time': array([0.00176477, 0.00163484, 0.0017302 , 0.0016048 , 0.00162959]), 'test_score': array([1.        , 0.93333333, 0.96666667, 0.96666667, 0.93333333]), 'train_score': array([0.99166667, 0.99166667, 0.99166667, 1.        , 1.        ])}\n",
            "BernoulliNB の正解率 = \n",
            "{'fit_time': array([0.00286031, 0.00162792, 0.00164056, 0.00160241, 0.00156879]), 'score_time': array([0.00106716, 0.0007925 , 0.00076461, 0.00077486, 0.00081801]), 'test_score': array([0.26666667, 0.3       , 0.23333333, 0.23333333, 0.23333333]), 'train_score': array([0.35      , 0.34166667, 0.35833333, 0.35833333, 0.35833333])}\n",
            "CalibratedClassifierCV の正解率 = \n",
            "{'fit_time': array([0.03751731, 0.03604126, 0.03867102, 0.03734589, 0.03647256]), 'score_time': array([0.00142217, 0.00132227, 0.00140285, 0.00145507, 0.00143838]), 'test_score': array([0.96666667, 0.9       , 0.86666667, 0.93333333, 0.96666667]), 'train_score': array([0.95      , 0.925     , 0.94166667, 0.94166667, 0.925     ])}\n",
            "ComplementNB の正解率 = \n",
            "{'fit_time': array([0.00325894, 0.00169659, 0.00160289, 0.00178647, 0.00168943]), 'score_time': array([0.00067806, 0.00072742, 0.00072145, 0.00070858, 0.00075579]), 'test_score': array([0.6       , 0.66666667, 0.76666667, 0.66666667, 0.63333333]), 'train_score': array([0.68333333, 0.66666667, 0.64166667, 0.66666667, 0.675     ])}\n",
            "DecisionTreeClassifier の正解率 = \n",
            "{'fit_time': array([0.00215149, 0.00129271, 0.00126052, 0.00117183, 0.0011723 ]), 'score_time': array([0.00068283, 0.0006566 , 0.00072646, 0.00063396, 0.00060606]), 'test_score': array([0.9       , 0.93333333, 0.96666667, 0.93333333, 0.96666667]), 'train_score': array([1., 1., 1., 1., 1.])}\n",
            "ExtraTreeClassifier の正解率 = \n",
            "{'fit_time': array([0.00211835, 0.00130534, 0.00114107, 0.00113487, 0.00113106]), 'score_time': array([0.00067401, 0.00060344, 0.00065923, 0.00063396, 0.00060654]), 'test_score': array([0.96666667, 0.9       , 0.96666667, 0.96666667, 0.93333333]), 'train_score': array([1., 1., 1., 1., 1.])}\n",
            "ExtraTreesClassifier の正解率 = \n",
            "{'fit_time': array([0.01038575, 0.00907779, 0.0106082 , 0.0089848 , 0.01481915]), 'score_time': array([0.00139904, 0.00138426, 0.00137329, 0.00130033, 0.00146937]), 'test_score': array([0.93333333, 0.93333333, 0.93333333, 1.        , 0.93333333]), 'train_score': array([1., 1., 1., 1., 1.])}\n",
            "GaussianNB の正解率 = \n",
            "{'fit_time': array([0.00230289, 0.0021112 , 0.001791  , 0.00163841, 0.00140667]), 'score_time': array([0.00119829, 0.00154614, 0.00105286, 0.00077963, 0.00077033]), 'test_score': array([0.96666667, 0.96666667, 0.93333333, 0.96666667, 0.96666667]), 'train_score': array([0.95833333, 0.95      , 0.95833333, 0.95833333, 0.95833333])}\n",
            "GaussianProcessClassifier の正解率 = \n",
            "{'fit_time': array([0.03043389, 0.04641247, 0.04074478, 0.06466818, 0.03285861]), 'score_time': array([0.00488138, 0.00631309, 0.0097928 , 0.01023531, 0.00532889]), 'test_score': array([0.96666667, 0.96666667, 0.93333333, 0.93333333, 1.        ]), 'train_score': array([0.975     , 0.975     , 0.96666667, 0.975     , 0.95833333])}\n",
            "GradientBoostingClassifier の正解率 = \n",
            "{'fit_time': array([0.20821476, 0.15011859, 0.13219333, 0.14196277, 0.14594626]), 'score_time': array([0.00162172, 0.00141573, 0.00142717, 0.00142646, 0.00143719]), 'test_score': array([0.96666667, 0.96666667, 0.93333333, 0.93333333, 0.96666667]), 'train_score': array([1., 1., 1., 1., 1.])}\n",
            "KNeighborsClassifier の正解率 = \n",
            "{'fit_time': array([0.00176883, 0.00127435, 0.00160956, 0.00123739, 0.00122499]), 'score_time': array([0.00310898, 0.00186276, 0.00188303, 0.00182462, 0.00183868]), 'test_score': array([0.96666667, 1.        , 0.93333333, 0.93333333, 0.96666667]), 'train_score': array([0.96666667, 0.96666667, 0.98333333, 0.95833333, 0.975     ])}\n",
            "LabelPropagation の正解率 = \n",
            "{'fit_time': array([0.00299358, 0.00265956, 0.00264859, 0.00263691, 0.00261331]), 'score_time': array([0.00149822, 0.00148678, 0.00145388, 0.00147986, 0.00147438]), 'test_score': array([0.93333333, 0.93333333, 1.        , 0.96666667, 0.93333333]), 'train_score': array([1., 1., 1., 1., 1.])}\n",
            "LabelSpreading の正解率 = \n",
            "{'fit_time': array([0.00331783, 0.00306058, 0.0031352 , 0.00309658, 0.00300121]), 'score_time': array([0.001513  , 0.00155807, 0.00145221, 0.00148559, 0.00146174]), 'test_score': array([1.        , 0.96666667, 0.93333333, 1.        , 0.9       ]), 'train_score': array([1., 1., 1., 1., 1.])}\n",
            "LinearDiscriminantAnalysis の正解率 = \n",
            "{'fit_time': array([0.00352716, 0.00252771, 0.00240946, 0.00242615, 0.00246572]), 'score_time': array([0.00098491, 0.00091624, 0.00090718, 0.0009048 , 0.00096416]), 'test_score': array([0.93333333, 1.        , 1.        , 0.96666667, 1.        ]), 'train_score': array([0.99166667, 0.975     , 0.975     , 0.98333333, 0.975     ])}\n",
            "LinearSVC の正解率 = \n",
            "{'fit_time': array([0.01093769, 0.01120067, 0.01069307, 0.01131654, 0.0123477 ]), 'score_time': array([0.00099587, 0.00099206, 0.00095654, 0.00094128, 0.00122786]), 'test_score': array([0.9       , 0.93333333, 0.96666667, 0.93333333, 0.93333333]), 'train_score': array([0.975     , 0.96666667, 0.975     , 0.98333333, 0.95833333])}\n",
            "LogisticRegression の正解率 = \n",
            "{'fit_time': array([0.00306106, 0.0023756 , 0.00225735, 0.00226188, 0.00228858]), 'score_time': array([0.00094175, 0.00087929, 0.00089192, 0.00092459, 0.00072169]), 'test_score': array([0.96666667, 0.83333333, 1.        , 0.96666667, 0.93333333]), 'train_score': array([0.95      , 0.96666667, 0.96666667, 0.975     , 0.95833333])}\n",
            "LogisticRegressionCV の正解率 = \n",
            "{'fit_time': array([0.33179712, 0.33333182, 0.31952333, 0.34927607, 0.31323266]), 'score_time': array([0.0014255 , 0.00098109, 0.00096822, 0.00092602, 0.00098872]), 'test_score': array([0.93333333, 0.93333333, 1.        , 0.86666667, 0.9       ]), 'train_score': array([0.89166667, 0.975     , 0.95      , 0.925     , 0.98333333])}\n",
            "MLPClassifier の正解率 = \n",
            "{'fit_time': array([0.13494778, 0.13315749, 0.13101101, 0.13080001, 0.1307075 ]), 'score_time': array([0.00124931, 0.00125217, 0.00124407, 0.00144506, 0.00125027]), 'test_score': array([1.        , 0.93333333, 0.93333333, 1.        , 1.        ]), 'train_score': array([0.975     , 0.98333333, 0.98333333, 0.96666667, 0.975     ])}\n",
            "MultinomialNB の正解率 = \n",
            "{'fit_time': array([0.0024159 , 0.00165629, 0.00162411, 0.00180054, 0.00163174]), 'score_time': array([0.00163984, 0.00071979, 0.00074005, 0.00073385, 0.00073051]), 'test_score': array([0.96666667, 0.56666667, 0.9       , 0.5       , 0.83333333]), 'train_score': array([0.93333333, 0.7       , 0.94166667, 0.73333333, 0.89166667])}\n",
            "NearestCentroid の正解率 = \n",
            "{'fit_time': array([0.00173879, 0.00148535, 0.00149417, 0.0016439 , 0.00147605]), 'score_time': array([0.00100017, 0.00094509, 0.00096726, 0.00098348, 0.00095868]), 'test_score': array([0.93333333, 0.9       , 0.9       , 0.93333333, 0.93333333]), 'train_score': array([0.93333333, 0.93333333, 0.93333333, 0.93333333, 0.90833333])}\n",
            "NuSVC の正解率 = \n",
            "{'fit_time': array([0.00281167, 0.00199151, 0.00192761, 0.00191641, 0.00187755]), 'score_time': array([0.00080276, 0.00075054, 0.00075769, 0.00075078, 0.00075698]), 'test_score': array([0.96666667, 1.        , 0.93333333, 0.93333333, 0.96666667]), 'train_score': array([0.95833333, 0.96666667, 0.96666667, 0.99166667, 0.95833333])}\n",
            "PassiveAggressiveClassifier の正解率 = \n",
            "{'fit_time': array([0.00279212, 0.00276685, 0.00169945, 0.00166202, 0.00169182]), 'score_time': array([0.00091124, 0.00068188, 0.00067186, 0.00064373, 0.00069046]), 'test_score': array([0.56666667, 0.73333333, 0.7       , 0.63333333, 0.8       ]), 'train_score': array([0.69166667, 0.81666667, 0.73333333, 0.70833333, 0.91666667])}\n",
            "Perceptron の正解率 = \n",
            "{'fit_time': array([0.00381184, 0.00233245, 0.00233841, 0.00231576, 0.00235152]), 'score_time': array([0.00070119, 0.00066519, 0.00066924, 0.00067306, 0.00067735]), 'test_score': array([0.5       , 0.33333333, 0.3       , 0.33333333, 0.6       ]), 'train_score': array([0.70833333, 0.33333333, 0.38333333, 0.34166667, 0.68333333])}\n",
            "QuadraticDiscriminantAnalysis の正解率 = \n",
            "{'fit_time': array([0.00255275, 0.00150347, 0.00141931, 0.00141335, 0.00144529]), 'score_time': array([0.00088239, 0.0010922 , 0.00085616, 0.00085473, 0.00085235]), 'test_score': array([0.93333333, 0.93333333, 1.        , 1.        , 1.        ]), 'train_score': array([0.99166667, 0.99166667, 0.975     , 0.975     , 0.975     ])}\n",
            "RadiusNeighborsClassifier の正解率 = \n",
            "{'fit_time': array([0.00162745, 0.00129366, 0.00135946, 0.00150919, 0.00157022]), 'score_time': array([0.00510025, 0.00407267, 0.00411415, 0.00419188, 0.00865102]), 'test_score': array([0.96666667, 0.86666667, 0.96666667, 1.        , 0.96666667]), 'train_score': array([0.93333333, 0.975     , 0.95833333, 0.95833333, 0.96666667])}\n",
            "RandomForestClassifier の正解率 = \n",
            "{'fit_time': array([0.01378465, 0.01197314, 0.01194668, 0.01209164, 0.01197243]), 'score_time': array([0.00145411, 0.00131345, 0.00133657, 0.00134659, 0.00135732]), 'test_score': array([0.86666667, 0.93333333, 1.        , 0.96666667, 0.93333333]), 'train_score': array([1.        , 0.99166667, 1.        , 1.        , 0.99166667])}\n",
            "RidgeClassifier の正解率 = \n",
            "{'fit_time': array([0.00419164, 0.00245595, 0.00242543, 0.00235438, 0.00238943]), 'score_time': array([0.00091767, 0.0007112 , 0.00067568, 0.00068879, 0.00068498]), 'test_score': array([0.8       , 0.9       , 0.83333333, 0.8       , 0.83333333]), 'train_score': array([0.84166667, 0.85      , 0.85      , 0.85833333, 0.86666667])}\n",
            "RidgeClassifierCV の正解率 = \n",
            "{'fit_time': array([0.00449753, 0.00273228, 0.0043385 , 0.00420189, 0.0027709 ]), 'score_time': array([0.00078034, 0.00072765, 0.00107193, 0.00108647, 0.00074434]), 'test_score': array([0.93333333, 0.8       , 0.9       , 0.8       , 0.8       ]), 'train_score': array([0.825     , 0.85      , 0.83333333, 0.86666667, 0.86666667])}\n",
            "SGDClassifier の正解率 = \n",
            "{'fit_time': array([0.00311542, 0.00173044, 0.00165844, 0.00165319, 0.00168443]), 'score_time': array([0.00088525, 0.0006597 , 0.00066781, 0.00063443, 0.00067234]), 'test_score': array([0.43333333, 0.23333333, 0.83333333, 0.36666667, 0.9       ]), 'train_score': array([0.33333333, 0.375     , 0.625     , 0.325     , 0.86666667])}\n",
            "SVC の正解率 = \n",
            "{'fit_time': array([0.00238323, 0.00161099, 0.00165558, 0.00151229, 0.001508  ]), 'score_time': array([0.00073314, 0.00071907, 0.00070786, 0.00069547, 0.00093198]), 'test_score': array([1.        , 0.96666667, 0.96666667, 0.96666667, 0.96666667]), 'train_score': array([0.98333333, 0.99166667, 0.98333333, 0.975     , 0.99166667])}\n"
          ],
          "name": "stdout"
        }
      ]
    },
    {
      "cell_type": "code",
      "metadata": {
        "id": "71UWD2Iapo6Q"
      },
      "source": [
        "from sklearn.model_selection import GridSearchCV\n",
        "from sklearn.svm import SVC"
      ],
      "execution_count": 12,
      "outputs": []
    },
    {
      "cell_type": "code",
      "metadata": {
        "id": "k0ve8Qwrp6OJ",
        "outputId": "2ca29945-1a88-4707-abc7-6b2973fe9e7e",
        "colab": {
          "base_uri": "https://localhost:8080/"
        }
      },
      "source": [
        "parameters = [\n",
        "              {\"C\":[1, 10, 100, 1000], \"kernel\":[\"linear\"]},\n",
        "              {\"C\":[1, 10, 100, 1000], \"kernel\":[\"rbf\"], \"gamma\":[0.001, 0.0001]},\n",
        "              {\"C\":[1, 10, 100, 1000], \"kernel\":[\"sigmoid\"], \"gamma\":[0.001, 0.0001]}\n",
        "]\n",
        "\n",
        "clf_svc = SVC()\n",
        "clf_svc.fit(x_train, y_train)\n",
        "y_pred_svc = clf_svc.predict(x_test)\n",
        "print(\"普通の学習の正解率 = \", accuracy_score(y_test, y_pred))\n",
        "\n",
        "kfold_cv = KFold(n_splits=5, shuffle=True)\n",
        "clf_grid = GridSearchCV(SVC(), parameters, cv=kfold_cv)\n",
        "clf_grid.fit(x_train, y_train)\n",
        "print(\"最適なパラメーター = \", clf_grid.best_estimator_)\n",
        "\n",
        "y_pred_grid = clf_grid.predict(x_test)\n",
        "print(\"グリッドサーチの正解率 = \", accuracy_score(y_test, y_pred))\n"
      ],
      "execution_count": 13,
      "outputs": [
        {
          "output_type": "stream",
          "text": [
            "普通の学習の正解率 =  0.9333333333333333\n",
            "最適なパラメーター =  SVC(C=10, cache_size=200, class_weight=None, coef0=0.0,\n",
            "  decision_function_shape='ovr', degree=3, gamma='auto_deprecated',\n",
            "  kernel='linear', max_iter=-1, probability=False, random_state=None,\n",
            "  shrinking=True, tol=0.001, verbose=False)\n",
            "グリッドサーチの正解率 =  0.9333333333333333\n"
          ],
          "name": "stdout"
        }
      ]
    },
    {
      "cell_type": "code",
      "metadata": {
        "id": "ZYp_NxeqBfS3"
      },
      "source": [
        "import numpy as np"
      ],
      "execution_count": 14,
      "outputs": []
    },
    {
      "cell_type": "code",
      "metadata": {
        "id": "URzwxGemBk2a",
        "outputId": "19e4afa6-df76-4901-d3ec-e447c13d0515",
        "colab": {
          "base_uri": "https://localhost:8080/"
        }
      },
      "source": [
        "a = np.array([1,2,3,4,5])\n",
        "print(a)\n",
        "print(type(a))"
      ],
      "execution_count": 18,
      "outputs": [
        {
          "output_type": "stream",
          "text": [
            "[1 2 3 4 5]\n",
            "<class 'numpy.ndarray'>\n"
          ],
          "name": "stdout"
        }
      ]
    },
    {
      "cell_type": "code",
      "metadata": {
        "id": "2Ihw7JueBw07",
        "outputId": "56d28cf2-eb6d-47c4-cccc-5268669f56cb",
        "colab": {
          "base_uri": "https://localhost:8080/"
        }
      },
      "source": [
        "b = np.array([[1,2,3],[4,5,6]])\n",
        "print(b)"
      ],
      "execution_count": 15,
      "outputs": [
        {
          "output_type": "stream",
          "text": [
            "[[1 2 3]\n",
            " [4 5 6]]\n"
          ],
          "name": "stdout"
        }
      ]
    },
    {
      "cell_type": "code",
      "metadata": {
        "id": "kkGVVGyZB8Ew",
        "outputId": "52ae5de6-75a2-42a3-ba0f-2922817c932c",
        "colab": {
          "base_uri": "https://localhost:8080/"
        }
      },
      "source": [
        "print(np.zeros(10))\n",
        "print(np.zeros((3,2)))\n",
        "print(np.ones(2))"
      ],
      "execution_count": 16,
      "outputs": [
        {
          "output_type": "stream",
          "text": [
            "[0. 0. 0. 0. 0. 0. 0. 0. 0. 0.]\n",
            "[[0. 0.]\n",
            " [0. 0.]\n",
            " [0. 0.]]\n",
            "[1. 1.]\n"
          ],
          "name": "stdout"
        }
      ]
    },
    {
      "cell_type": "code",
      "metadata": {
        "id": "hkHM4Di3CT8J",
        "outputId": "4ee389bf-d9e3-4f5c-e0b2-16df24e5b71a",
        "colab": {
          "base_uri": "https://localhost:8080/"
        }
      },
      "source": [
        "print(np.arange(5))\n",
        "print(np.arange(2,9))\n",
        "print(np.arange(5,8,0.5))"
      ],
      "execution_count": 19,
      "outputs": [
        {
          "output_type": "stream",
          "text": [
            "[0 1 2 3 4]\n",
            "[2 3 4 5 6 7 8]\n",
            "[5.  5.5 6.  6.5 7.  7.5]\n"
          ],
          "name": "stdout"
        }
      ]
    },
    {
      "cell_type": "code",
      "metadata": {
        "id": "0LR-xfSUCj5Z",
        "outputId": "178b6dda-a2a3-4f3b-9c4a-ba208c31080e",
        "colab": {
          "base_uri": "https://localhost:8080/"
        }
      },
      "source": [
        "a = np.array([1,2,3,4,5])\n",
        "b = a*2\n",
        "print(b)\n",
        "x = np.arange(10)\n",
        "print(x)\n",
        "y = 3*x+5\n",
        "print(y)"
      ],
      "execution_count": 21,
      "outputs": [
        {
          "output_type": "stream",
          "text": [
            "[ 2  4  6  8 10]\n",
            "[0 1 2 3 4 5 6 7 8 9]\n",
            "[ 5  8 11 14 17 20 23 26 29 32]\n"
          ],
          "name": "stdout"
        }
      ]
    },
    {
      "cell_type": "code",
      "metadata": {
        "id": "pMrx3Mz5DAru",
        "outputId": "67e2380e-e97d-432d-e908-a9501b930e3f",
        "colab": {
          "base_uri": "https://localhost:8080/"
        }
      },
      "source": [
        "a = np.array([[1,2,3],[4,5,6]])\n",
        "print(a)\n",
        "print(a.shape)\n",
        "\n",
        "b = np.array([[1,2,3],[4,5,6],[7,8,9]])\n",
        "print(b)\n",
        "print(b.shape)"
      ],
      "execution_count": 23,
      "outputs": [
        {
          "output_type": "stream",
          "text": [
            "[[1 2 3]\n",
            " [4 5 6]]\n",
            "(2, 3)\n",
            "[[1 2 3]\n",
            " [4 5 6]\n",
            " [7 8 9]]\n",
            "(3, 3)\n"
          ],
          "name": "stdout"
        }
      ]
    },
    {
      "cell_type": "code",
      "metadata": {
        "id": "xx2bxV1wDci2",
        "outputId": "b11eb7ae-4e7c-40c6-d4a0-475907be91f4",
        "colab": {
          "base_uri": "https://localhost:8080/"
        }
      },
      "source": [
        "a = np.array([[1,2,3],[4,5,6]])\n",
        "print(\"a=\",a)\n",
        "b = a.flatten()\n",
        "print(\"b=\",b)\n",
        "\n",
        "a = np.array([[1,2,3],[4,5,6]])\n",
        "print(a)\n",
        "b = a.reshape(3,2)\n",
        "print(b)"
      ],
      "execution_count": 24,
      "outputs": [
        {
          "output_type": "stream",
          "text": [
            "a= [[1 2 3]\n",
            " [4 5 6]]\n",
            "b= [1 2 3 4 5 6]\n",
            "[[1 2 3]\n",
            " [4 5 6]]\n",
            "[[1 2]\n",
            " [3 4]\n",
            " [5 6]]\n"
          ],
          "name": "stdout"
        }
      ]
    },
    {
      "cell_type": "code",
      "metadata": {
        "id": "k1K59BCnD7hj",
        "outputId": "339a8e07-944e-4846-d5d2-865e2e932004",
        "colab": {
          "base_uri": "https://localhost:8080/"
        }
      },
      "source": [
        "v = np.array([[1,2,3],[4,5,6],[7,8,9]])\n",
        "a = v[0]\n",
        "print(a)\n",
        "b = v[1:]\n",
        "print(b)\n",
        "c = v[:,0]\n",
        "print(c)"
      ],
      "execution_count": 26,
      "outputs": [
        {
          "output_type": "stream",
          "text": [
            "[1 2 3]\n",
            "[[4 5 6]\n",
            " [7 8 9]]\n",
            "[1 4 7]\n"
          ],
          "name": "stdout"
        }
      ]
    }
  ]
}